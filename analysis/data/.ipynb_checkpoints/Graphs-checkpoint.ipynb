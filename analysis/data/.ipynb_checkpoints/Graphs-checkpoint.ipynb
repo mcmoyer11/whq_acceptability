{
 "cells": [
  {
   "cell_type": "code",
   "execution_count": 7,
   "metadata": {},
   "outputs": [],
   "source": [
    "import pandas as pd\n",
    "import numpy as np\n",
    "import seaborn as sns\n",
    "import matplotlib.pyplot as plt\n",
    "import matplotlib as mpl \n",
    "import os\n",
    "import csv"
   ]
  },
  {
   "cell_type": "code",
   "execution_count": 3,
   "metadata": {},
   "outputs": [],
   "source": [
    "df = pd.read_csv(\"tot_nat.csv\")"
   ]
  },
  {
   "cell_type": "code",
   "execution_count": 5,
   "metadata": {},
   "outputs": [
    {
     "data": {
      "text/html": [
       "<div>\n",
       "<style scoped>\n",
       "    .dataframe tbody tr th:only-of-type {\n",
       "        vertical-align: middle;\n",
       "    }\n",
       "\n",
       "    .dataframe tbody tr th {\n",
       "        vertical-align: top;\n",
       "    }\n",
       "\n",
       "    .dataframe thead th {\n",
       "        text-align: right;\n",
       "    }\n",
       "</style>\n",
       "<table border=\"1\" class=\"dataframe\">\n",
       "  <thead>\n",
       "    <tr style=\"text-align: right;\">\n",
       "      <th></th>\n",
       "      <th>subject</th>\n",
       "      <th>native_lang</th>\n",
       "      <th>context</th>\n",
       "      <th>mat_verb</th>\n",
       "      <th>wh</th>\n",
       "      <th>emb_verb</th>\n",
       "      <th>list</th>\n",
       "      <th>tense</th>\n",
       "      <th>response</th>\n",
       "    </tr>\n",
       "  </thead>\n",
       "  <tbody>\n",
       "    <tr>\n",
       "      <td>0</td>\n",
       "      <td>8587</td>\n",
       "      <td>EN</td>\n",
       "      <td>MST</td>\n",
       "      <td>predict</td>\n",
       "      <td>where</td>\n",
       "      <td>find</td>\n",
       "      <td>blue</td>\n",
       "      <td>nonfinite</td>\n",
       "      <td>1.0</td>\n",
       "    </tr>\n",
       "    <tr>\n",
       "      <td>1</td>\n",
       "      <td>9541</td>\n",
       "      <td>EN</td>\n",
       "      <td>MST</td>\n",
       "      <td>predict</td>\n",
       "      <td>where</td>\n",
       "      <td>find</td>\n",
       "      <td>blue</td>\n",
       "      <td>nonfinite</td>\n",
       "      <td>1.0</td>\n",
       "    </tr>\n",
       "    <tr>\n",
       "      <td>2</td>\n",
       "      <td>8602</td>\n",
       "      <td>EN</td>\n",
       "      <td>MST</td>\n",
       "      <td>predict</td>\n",
       "      <td>where</td>\n",
       "      <td>find</td>\n",
       "      <td>blue</td>\n",
       "      <td>nonfinite</td>\n",
       "      <td>1.0</td>\n",
       "    </tr>\n",
       "    <tr>\n",
       "      <td>3</td>\n",
       "      <td>9421</td>\n",
       "      <td>EN</td>\n",
       "      <td>MST</td>\n",
       "      <td>predict</td>\n",
       "      <td>where</td>\n",
       "      <td>find</td>\n",
       "      <td>blue</td>\n",
       "      <td>nonfinite</td>\n",
       "      <td>1.0</td>\n",
       "    </tr>\n",
       "    <tr>\n",
       "      <td>4</td>\n",
       "      <td>9634</td>\n",
       "      <td>EN</td>\n",
       "      <td>MST</td>\n",
       "      <td>predict</td>\n",
       "      <td>where</td>\n",
       "      <td>find</td>\n",
       "      <td>blue</td>\n",
       "      <td>nonfinite</td>\n",
       "      <td>1.0</td>\n",
       "    </tr>\n",
       "  </tbody>\n",
       "</table>\n",
       "</div>"
      ],
      "text/plain": [
       "  subject native_lang context mat_verb     wh emb_verb  list      tense  \\\n",
       "0    8587          EN     MST  predict  where     find  blue  nonfinite   \n",
       "1    9541          EN     MST  predict  where     find  blue  nonfinite   \n",
       "2    8602          EN     MST  predict  where     find  blue  nonfinite   \n",
       "3    9421          EN     MST  predict  where     find  blue  nonfinite   \n",
       "4    9634          EN     MST  predict  where     find  blue  nonfinite   \n",
       "\n",
       "   response  \n",
       "0       1.0  \n",
       "1       1.0  \n",
       "2       1.0  \n",
       "3       1.0  \n",
       "4       1.0  "
      ]
     },
     "execution_count": 5,
     "metadata": {},
     "output_type": "execute_result"
    }
   ],
   "source": [
    "df.head()"
   ]
  },
  {
   "cell_type": "code",
   "execution_count": 8,
   "metadata": {},
   "outputs": [],
   "source": [
    "sns.set_palette(sns.cubehelix_palette(5, start=.75, rot=-.75))"
   ]
  },
  {
   "cell_type": "code",
   "execution_count": null,
   "metadata": {},
   "outputs": [],
   "source": []
  }
 ],
 "metadata": {
  "kernelspec": {
   "display_name": "Python 3",
   "language": "python",
   "name": "python3"
  },
  "language_info": {
   "codemirror_mode": {
    "name": "ipython",
    "version": 3
   },
   "file_extension": ".py",
   "mimetype": "text/x-python",
   "name": "python",
   "nbconvert_exporter": "python",
   "pygments_lexer": "ipython3",
   "version": "3.7.4"
  }
 },
 "nbformat": 4,
 "nbformat_minor": 2
}
